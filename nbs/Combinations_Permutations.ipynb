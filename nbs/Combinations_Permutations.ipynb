{
  "nbformat": 4,
  "nbformat_minor": 0,
  "metadata": {
    "colab": {
      "provenance": [],
      "collapsed_sections": [],
      "toc_visible": true
    },
    "kernelspec": {
      "name": "python3",
      "display_name": "Python 3"
    },
    "language_info": {
      "name": "python"
    }
  },
  "cells": [
    {
      "cell_type": "markdown",
      "source": [
        "## 5. Combinations and Permutations\n",
        "\n",
        "- **Combinations**: all the ways in which you can group something where the order does not matter\n",
        "- **Permutations**: all the ways in which you can group something where the order does matter\n",
        "\n"
      ],
      "metadata": {
        "id": "vFmwING5nTd2"
      }
    },
    {
      "cell_type": "markdown",
      "source": [
        "### 5.1: Example 1: The difference"
      ],
      "metadata": {
        "id": "3DHvmdQPn6PK"
      }
    },
    {
      "cell_type": "code",
      "source": [
        "import itertools\n",
        "\n",
        "my_list = [1, 2, 3]\n",
        "\n",
        "combinations = itertools.combinations(my_list, 2)\n",
        "for c in combinations:\n",
        "  print('combination {}:'.format(c))\n",
        "\n",
        "permutations = itertools.permutations(my_list, 2)\n",
        "for p in permutations:\n",
        "  print('permutation {}:'.format(p))\n"
      ],
      "metadata": {
        "id": "0BLDbZYuFCwz",
        "colab": {
          "base_uri": "https://localhost:8080/"
        },
        "outputId": "df3679ef-0a6d-4edd-ea35-84d523178a96"
      },
      "execution_count": null,
      "outputs": [
        {
          "output_type": "stream",
          "name": "stdout",
          "text": [
            "combination (1, 2):\n",
            "combination (1, 3):\n",
            "combination (2, 3):\n",
            "permutation (1, 2):\n",
            "permutation (1, 3):\n",
            "permutation (2, 1):\n",
            "permutation (2, 3):\n",
            "permutation (3, 1):\n",
            "permutation (3, 2):\n"
          ]
        }
      ]
    },
    {
      "cell_type": "markdown",
      "source": [
        "It is evident that although combinations are only three whereas permutations are six. This is because in comibations order does not matter and so `(1,2) = ((2,1))`, in the case of combinations. \n",
        "\n",
        "### 5.2: Example 2: Permutations and Combinations usability "
      ],
      "metadata": {
        "id": "8Ugnd3IOpBS0"
      }
    },
    {
      "cell_type": "code",
      "source": [
        "import itertools\n",
        "\n",
        "my_list = [1,2,3,4,5,6]\n",
        "\n",
        "combinations = itertools.combinations(my_list, 3)\n",
        "permutations = itertools.permutations(my_list, 3)\n",
        "\n",
        "# Get me the combination of valiues that add up to 10.\n",
        "print('combinations:',[result for result in combinations if sum(result) == 10])\n",
        "print('permutations:',[result for result in permutations if sum(result) == 10])"
      ],
      "metadata": {
        "colab": {
          "base_uri": "https://localhost:8080/"
        },
        "id": "CMVnv4A6oKhO",
        "outputId": "b2a0a330-606c-4d15-801d-d3384ee11043"
      },
      "execution_count": null,
      "outputs": [
        {
          "output_type": "stream",
          "name": "stdout",
          "text": [
            "combinations: [(1, 3, 6), (1, 4, 5), (2, 3, 5)]\n",
            "permutations: [(1, 3, 6), (1, 4, 5), (1, 5, 4), (1, 6, 3), (2, 3, 5), (2, 5, 3), (3, 1, 6), (3, 2, 5), (3, 5, 2), (3, 6, 1), (4, 1, 5), (4, 5, 1), (5, 1, 4), (5, 2, 3), (5, 3, 2), (5, 4, 1), (6, 1, 3), (6, 3, 1)]\n"
          ]
        }
      ]
    },
    {
      "cell_type": "markdown",
      "source": [
        "For the use case of printing out the combinations that sum up to 10 is more useful because permutations gather a lot more objects useless to the goal given the order for us does not matter.\n",
        "\n"
      ],
      "metadata": {
        "id": "HjAcJ1ZRrDKF"
      }
    },
    {
      "cell_type": "code",
      "source": [
        "word = 'sample'\n",
        "my_letters = 'plmeas'\n",
        "\n",
        "combinations = itertools.combinations(my_letters, 6)\n",
        "permutations = itertools.permutations(my_letters, 6)\n",
        "\n",
        "for p in combinations:\n",
        "  if ''.join(p) == word:\n",
        "    print('combinations: Match!')\n",
        "    break\n",
        "\n",
        "else:\n",
        "  print('combinations: No Match!')\n",
        "\n",
        "\n",
        "for p in permutations:\n",
        "  if ''.join(p) == word:\n",
        "    print('permutations: Match!')\n",
        "    break\n",
        "\n",
        "else:\n",
        "  print('permutations\" No Match!')"
      ],
      "metadata": {
        "colab": {
          "base_uri": "https://localhost:8080/"
        },
        "id": "t7qqA89nrCRP",
        "outputId": "c3353510-c0a4-455a-b67c-b3ea7d23a3e7"
      },
      "execution_count": null,
      "outputs": [
        {
          "output_type": "stream",
          "name": "stdout",
          "text": [
            "combinations: No Match!\n",
            "permutations: Match!\n"
          ]
        }
      ]
    },
    {
      "cell_type": "markdown",
      "source": [
        "In this case permutations is suited as it has a record of all available combinations of the letters in `my_letters` and so has the `word` has been matched.\n",
        "\n",
        "In the case of combinatios however, a match was not found because all possible rearrangements of the letters are not part of it.\n",
        "\n",
        "\n",
        "### 5.3 Summary\n",
        "\n",
        "Combinations and permutations are used for different reasons. Keep in mind that permutations can be computationally expensive so use with caution especially with larger datasets."
      ],
      "metadata": {
        "id": "VbMw0J5ms7o7"
      }
    }
  ]
}