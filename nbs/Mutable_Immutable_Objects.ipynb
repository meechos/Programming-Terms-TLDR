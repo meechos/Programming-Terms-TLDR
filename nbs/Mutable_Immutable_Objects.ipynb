{
  "nbformat": 4,
  "nbformat_minor": 0,
  "metadata": {
    "colab": {
      "provenance": [],
      "collapsed_sections": [],
      "toc_visible": true
    },
    "kernelspec": {
      "name": "python3",
      "display_name": "Python 3"
    },
    "language_info": {
      "name": "python"
    }
  },
  "cells": [
    {
      "cell_type": "markdown",
      "source": [
        "## 3. Mutable & Immutable\n",
        "\n",
        "An immutable object is an object whose state cannot be modified after it is created. This is in contrast to a mutalbe object, which can be modified after it is created."
      ],
      "metadata": {
        "id": "_A-U6bGHxfew"
      }
    },
    {
      "cell_type": "markdown",
      "source": [
        "### 3.1 Example 1: Strings are immutable"
      ],
      "metadata": {
        "id": "XyNzlnMuyczh"
      }
    },
    {
      "cell_type": "code",
      "source": [
        "a = 'satan'\n",
        "print(a)\n",
        "\n",
        "a = 'christ'\n",
        "print(a)"
      ],
      "metadata": {
        "id": "fGAeAYevPG4p",
        "colab": {
          "base_uri": "https://localhost:8080/"
        },
        "outputId": "83474d1f-f482-4cd6-9ffa-60c8ffc0243b"
      },
      "execution_count": null,
      "outputs": [
        {
          "output_type": "stream",
          "name": "stdout",
          "text": [
            "satan\n",
            "christ\n"
          ]
        }
      ]
    },
    {
      "cell_type": "code",
      "source": [
        "a = 'satan'\n",
        "print(a)\n",
        "print('address of a is: {}'.format(id(a)))\n",
        "\n",
        "a = 'christ'\n",
        "print(a)\n",
        "print('address of a is: {}'.format(id(a)))\n"
      ],
      "metadata": {
        "colab": {
          "base_uri": "https://localhost:8080/"
        },
        "id": "moO7xVdbynIc",
        "outputId": "5896c532-8f7a-490f-c3e3-fd51de03f0ac"
      },
      "execution_count": null,
      "outputs": [
        {
          "output_type": "stream",
          "name": "stdout",
          "text": [
            "satan\n",
            "address of a is: 140307608312880\n",
            "christ\n",
            "address of a is: 140307669504944\n"
          ]
        }
      ]
    },
    {
      "cell_type": "markdown",
      "source": [
        "Despite the fact the the console print outs may suggest that the string object a is being modified, what actually happens is that python creates a new string object. This is evident by returning the `id()` of either of the string objects showing different memory addresses.\n",
        "\n",
        "\n",
        ">**id(object): Built-in function** \\\n",
        "Return the “identity” of an object. This is an integer which is guaranteed to be unique and constant for this object during its lifetime. Two objects with non-overlapping lifetimes may have the same id() value.\n",
        "https://docs.python.org/3/library/functions.html#id\n",
        "\n",
        "To better show that strings are immutable, let's try to change one single character of the string object a:\n",
        "\n",
        "\n",
        "\n",
        "\n"
      ],
      "metadata": {
        "id": "coB7m7jWzhPB"
      }
    },
    {
      "cell_type": "code",
      "source": [
        "a = 'satan'\n",
        "print(a)\n",
        "print('address of a is: {}'.format(id(a)))\n",
        "\n",
        "a[0] = 'S'"
      ],
      "metadata": {
        "id": "7EO1HlSdy-Rb",
        "colab": {
          "base_uri": "https://localhost:8080/",
          "height": 232
        },
        "outputId": "12f1d859-d10d-4c45-b383-102c04971597"
      },
      "execution_count": null,
      "outputs": [
        {
          "output_type": "stream",
          "name": "stdout",
          "text": [
            "satan\n",
            "address of a is: 140307488538160\n"
          ]
        },
        {
          "output_type": "error",
          "ename": "TypeError",
          "evalue": "ignored",
          "traceback": [
            "\u001b[0;31m---------------------------------------------------------------------------\u001b[0m",
            "\u001b[0;31mTypeError\u001b[0m                                 Traceback (most recent call last)",
            "\u001b[0;32m<ipython-input-8-cf4c57464a49>\u001b[0m in \u001b[0;36m<module>\u001b[0;34m()\u001b[0m\n\u001b[1;32m      3\u001b[0m \u001b[0mprint\u001b[0m\u001b[0;34m(\u001b[0m\u001b[0;34m'address of a is: {}'\u001b[0m\u001b[0;34m.\u001b[0m\u001b[0mformat\u001b[0m\u001b[0;34m(\u001b[0m\u001b[0mid\u001b[0m\u001b[0;34m(\u001b[0m\u001b[0ma\u001b[0m\u001b[0;34m)\u001b[0m\u001b[0;34m)\u001b[0m\u001b[0;34m)\u001b[0m\u001b[0;34m\u001b[0m\u001b[0;34m\u001b[0m\u001b[0m\n\u001b[1;32m      4\u001b[0m \u001b[0;34m\u001b[0m\u001b[0m\n\u001b[0;32m----> 5\u001b[0;31m \u001b[0ma\u001b[0m\u001b[0;34m[\u001b[0m\u001b[0;36m0\u001b[0m\u001b[0;34m]\u001b[0m \u001b[0;34m=\u001b[0m \u001b[0;34m'S'\u001b[0m\u001b[0;34m\u001b[0m\u001b[0;34m\u001b[0m\u001b[0m\n\u001b[0m",
            "\u001b[0;31mTypeError\u001b[0m: 'str' object does not support item assignment"
          ]
        }
      ]
    },
    {
      "cell_type": "markdown",
      "source": [
        "### 3.2 Example 2: Lists are mutable"
      ],
      "metadata": {
        "id": "nBMMQG7f3sZv"
      }
    },
    {
      "cell_type": "code",
      "source": [
        "a = [1,2,3,4,5]\n",
        "print(a)\n",
        "print('address of a is: {}'.format(id(a)))\n",
        "\n",
        "a[0] = 666\n",
        "print(a)\n",
        "print('address of a is: {}'.format(id(a)))"
      ],
      "metadata": {
        "colab": {
          "base_uri": "https://localhost:8080/"
        },
        "id": "wKd9QJNb3cMY",
        "outputId": "9220d0b2-bdb0-4325-d83f-25054ecb83d5"
      },
      "execution_count": null,
      "outputs": [
        {
          "output_type": "stream",
          "name": "stdout",
          "text": [
            "[1, 2, 3, 4, 5]\n",
            "address of a is: 140307481772112\n",
            "[666, 2, 3, 4, 5]\n",
            "address of a is: 140307481772112\n"
          ]
        }
      ]
    },
    {
      "cell_type": "markdown",
      "source": [
        "In the list example above, we can see that the value was modified in place and that is what it means to be mutable."
      ],
      "metadata": {
        "id": "PxpGGNwX4L_b"
      }
    },
    {
      "cell_type": "markdown",
      "source": [
        "### 3.3 Example: Why it is important"
      ],
      "metadata": {
        "id": "nL7PBohm5UkQ"
      }
    },
    {
      "cell_type": "code",
      "source": [
        "band_members = ['Tom', 'James', 'John', 'Dimitris']\n",
        "\n",
        "output = '<ul>\\n'\n",
        "\n",
        "for musician in band_members:\n",
        "  output += musician\n",
        "  print('address of output is: {}'.format(id(output)))\n",
        "\n",
        "output += '</ul>'\n",
        "\n",
        "print(output)\n",
        "print('\\n')\n"
      ],
      "metadata": {
        "colab": {
          "base_uri": "https://localhost:8080/"
        },
        "id": "y5JK03as39yu",
        "outputId": "732738b3-e9d9-446c-ca56-6dd0fdbf59a0"
      },
      "execution_count": null,
      "outputs": [
        {
          "output_type": "stream",
          "name": "stdout",
          "text": [
            "address of output is: 140307481651056\n",
            "address of output is: 140307481651056\n",
            "address of output is: 140307481772480\n",
            "address of output is: 140307481772480\n",
            "<ul>\n",
            "TomJamesJohnDimitris</ul>\n",
            "\n",
            "\n"
          ]
        }
      ]
    },
    {
      "cell_type": "markdown",
      "source": [
        "In the example above we are concatenating immutable sequences which results in a new memory address per object in the initial list. This means that building up a sequence by repeated concatenation will have a quadratic runtime cost in the total sequence length. "
      ],
      "metadata": {
        "id": "B5llxYsk-2E1"
      }
    },
    {
      "cell_type": "code",
      "source": [
        "band_members = ['Tom', 'James', 'John', 'Dimitris']\n",
        "\n",
        "output = []\n",
        "# output.append('<ul>\\n')\n",
        "\n",
        "for musician in band_members:\n",
        "  output.append(musician)\n",
        "  print('address of output is: {}'.format(id(output)))\n",
        "\n",
        "# output.append('</ul>')\n",
        "output = ''.join(['<ul>\\n', *output, '</ul>'])\n",
        "# output += '</ul>'\n",
        "\n",
        "print(output)\n",
        "print('\\n')\n"
      ],
      "metadata": {
        "colab": {
          "base_uri": "https://localhost:8080/"
        },
        "id": "of4kjJaT6WsL",
        "outputId": "84e72071-1ae9-44b4-eef7-b730630e71fd"
      },
      "execution_count": null,
      "outputs": [
        {
          "output_type": "stream",
          "name": "stdout",
          "text": [
            "address of output is: 140307481721824\n",
            "address of output is: 140307481721824\n",
            "address of output is: 140307481721824\n",
            "address of output is: 140307481721824\n",
            "<ul>\n",
            "TomJamesJohnDimitris</ul>\n",
            "\n",
            "\n"
          ]
        }
      ]
    },
    {
      "cell_type": "markdown",
      "source": [
        "In the second example above we are building a list and use str.join(). Because of the fact that lists are mutable, this approach gets us a linear runtime cost by modifying the same memory address."
      ],
      "metadata": {
        "id": "FcnvFc2e-DF0"
      }
    },
    {
      "cell_type": "markdown",
      "source": [
        "### 3.4 Summary\n",
        "\n",
        "It can be very important in production code where large datasets are being used, using mutable or immutable objects can be choice that can crucially influence the performance if a program."
      ],
      "metadata": {
        "id": "zs8eujfS-Daf"
      }
    }
  ]
}