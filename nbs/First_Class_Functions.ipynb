{
  "nbformat": 4,
  "nbformat_minor": 0,
  "metadata": {
    "colab": {
      "provenance": [],
      "collapsed_sections": [],
      "toc_visible": true
    },
    "kernelspec": {
      "name": "python3",
      "display_name": "Python 3"
    },
    "language_info": {
      "name": "python"
    }
  },
  "cells": [
    {
      "cell_type": "markdown",
      "source": [
        "## 1. First Class Functions\n",
        "\n",
        "An entity which supports all the operations generally available to other entities. These operations typically include being passed as an argument, returned from a function, and assigned to a variable."
      ],
      "metadata": {
        "id": "MbTLI3zBHokS"
      }
    },
    {
      "cell_type": "code",
      "execution_count": null,
      "metadata": {
        "colab": {
          "base_uri": "https://localhost:8080/"
        },
        "id": "FXjAKNaqHj1W",
        "outputId": "90a04bc7-531b-442b-c36d-35d438d47eaa"
      },
      "outputs": [
        {
          "output_type": "stream",
          "name": "stdout",
          "text": [
            "25\n"
          ]
        }
      ],
      "source": [
        "def square(x):\n",
        "  return x * x\n",
        "\n",
        "f = square(5)\n",
        "print (f)"
      ]
    },
    {
      "cell_type": "code",
      "source": [
        "f = square\n",
        "print (f)\n",
        "print (square)\n",
        "print(f(5))\n"
      ],
      "metadata": {
        "colab": {
          "base_uri": "https://localhost:8080/"
        },
        "id": "0bBqBxOEIQyN",
        "outputId": "40199b20-58e6-40d5-bee9-e76692f27dcd"
      },
      "execution_count": null,
      "outputs": [
        {
          "output_type": "stream",
          "name": "stdout",
          "text": [
            "<function square at 0x7f391cb09b90>\n",
            "<function square at 0x7f391cb09b90>\n",
            "25\n"
          ]
        }
      ]
    },
    {
      "cell_type": "markdown",
      "source": [
        " We can \n",
        " - assign a function to a variable\n",
        " - pass functions as arguments and return from functions as a result of other functions. \n",
        "\n"
      ],
      "metadata": {
        "id": "KanqpR9zIrHC"
      }
    },
    {
      "cell_type": "markdown",
      "source": [
        "### 1.1 Passing functions  as arguments\n",
        "\n",
        "It is useful to be able to pass functions around in the following way:\n"
      ],
      "metadata": {
        "id": "um9FY6vLNSdO"
      }
    },
    {
      "cell_type": "code",
      "source": [
        "def my_map(func, arg_list):\n",
        "  result = []\n",
        "  for i in arg_list:\n",
        "    result.append(func(i))\n",
        "  return(result)\n",
        "\n",
        "def square(x):\n",
        "  return x * x\n",
        "\n",
        "def cube(x):\n",
        "  return x * x * x"
      ],
      "metadata": {
        "id": "dv4Vie3bIdKz"
      },
      "execution_count": null,
      "outputs": []
    },
    {
      "cell_type": "code",
      "source": [
        "squares = my_map(square, [1, 2, 3, 4])\n",
        "print(squares)\n",
        "\n",
        "cubes = my_map(cube, [1, 2, 3, 4])\n",
        "print(cubes)"
      ],
      "metadata": {
        "colab": {
          "base_uri": "https://localhost:8080/"
        },
        "id": "YfbI9aiGMVA3",
        "outputId": "ed8e4a9a-d569-4e36-bb48-a316973bfc1c"
      },
      "execution_count": null,
      "outputs": [
        {
          "output_type": "stream",
          "name": "stdout",
          "text": [
            "[1, 4, 9, 16]\n",
            "[1, 8, 27, 64]\n"
          ]
        }
      ]
    },
    {
      "cell_type": "markdown",
      "source": [
        "### 1.2 Return a function from another function\n",
        "\n",
        "Example 1:"
      ],
      "metadata": {
        "id": "1wli4YouNit6"
      }
    },
    {
      "cell_type": "code",
      "source": [
        "def logger(msg):\n",
        "\n",
        "  def log_message():\n",
        "    print('Log', msg)\n",
        "\n",
        "  return log_message"
      ],
      "metadata": {
        "id": "mZY7mm3yNhsO"
      },
      "execution_count": null,
      "outputs": []
    },
    {
      "cell_type": "code",
      "source": [
        "log_hi = logger('Hi!')\n",
        "log_hi()"
      ],
      "metadata": {
        "colab": {
          "base_uri": "https://localhost:8080/"
        },
        "id": "OxKuYnfrOAW4",
        "outputId": "df0d0d3d-306e-4582-93de-3867b4d223ec"
      },
      "execution_count": null,
      "outputs": [
        {
          "output_type": "stream",
          "name": "stdout",
          "text": [
            "Log Hi!\n"
          ]
        }
      ]
    },
    {
      "cell_type": "markdown",
      "source": [
        "We can see how this can be useful to return a function in order for it to **remember our initially passed argument **(here our initial 'Hi!' message).\n",
        "\n",
        "Example 2:"
      ],
      "metadata": {
        "id": "o6FwE9BAPEdW"
      }
    },
    {
      "cell_type": "code",
      "source": [
        "def html_tag(tag):\n",
        "\n",
        "  def wrap_text(msg):\n",
        "    print('<{0}>{1}</{0}>'.format(tag, msg))\n",
        "\n",
        "  return wrap_text"
      ],
      "metadata": {
        "id": "4z2bGl7UPpL-"
      },
      "execution_count": null,
      "outputs": []
    },
    {
      "cell_type": "code",
      "source": [
        "print_h1 = html_tag('h1')\n",
        "print(print_h1)"
      ],
      "metadata": {
        "colab": {
          "base_uri": "https://localhost:8080/"
        },
        "id": "eguIZSYgQGVX",
        "outputId": "faebb2f4-5434-4d70-ec60-35438cbf53c5"
      },
      "execution_count": null,
      "outputs": [
        {
          "output_type": "stream",
          "name": "stdout",
          "text": [
            "<function html_tag.<locals>.wrap_text at 0x7f39186e3950>\n"
          ]
        }
      ]
    },
    {
      "cell_type": "code",
      "source": [
        "print_h1('Test Headline')\n"
      ],
      "metadata": {
        "colab": {
          "base_uri": "https://localhost:8080/"
        },
        "id": "5F6xABJpQf3z",
        "outputId": "566302e7-a50e-48cd-8834-1bc58df262c0"
      },
      "execution_count": null,
      "outputs": [
        {
          "output_type": "stream",
          "name": "stdout",
          "text": [
            "<h1>Test Headline</h1>\n",
            "<h1>Test 2 Headline</h1>\n"
          ]
        }
      ]
    },
    {
      "cell_type": "code",
      "source": [
        "print_h2  = html_tag('h2')\n",
        "print_h2('Test 2 Headline')"
      ],
      "metadata": {
        "colab": {
          "base_uri": "https://localhost:8080/"
        },
        "id": "nidkX1ekSq8p",
        "outputId": "cba9ff56-782a-4729-ad57-9f142c507b6f"
      },
      "execution_count": null,
      "outputs": [
        {
          "output_type": "stream",
          "name": "stdout",
          "text": [
            "<h2>Test 2 Headline</h2>\n"
          ]
        }
      ]
    },
    {
      "cell_type": "markdown",
      "source": [
        "This functionality of returning functions like that is useful to logging and is similar to how decorators are also used. \n",
        "\n",
        "\n",
        "### 1.3 Summary of Higher Order Functions\n",
        "\n",
        "If a function accepts (1) other functions as arguments **OR** (2) returns functions as their result, then it is a higher order function. \n",
        "\n",
        "The usage of high order functions for logging can get very complicated as seen in the examples above. Closures help to avoid the complexity of this functionality.\n"
      ],
      "metadata": {
        "id": "y1DwutabTKPX"
      }
    }
  ]
}