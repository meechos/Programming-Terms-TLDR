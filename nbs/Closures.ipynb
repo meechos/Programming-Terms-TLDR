{
  "nbformat": 4,
  "nbformat_minor": 0,
  "metadata": {
    "colab": {
      "provenance": [],
      "collapsed_sections": [],
      "toc_visible": true
    },
    "kernelspec": {
      "name": "python3",
      "display_name": "Python 3"
    },
    "language_info": {
      "name": "python"
    }
  },
  "cells": [
    {
      "cell_type": "markdown",
      "source": [
        "## 2. Closures\n",
        "\n",
        "\n",
        "A closure is a record storing a function together with an enviroment: a mapping associating each free variable of the function with the value or storage location to which the name was bound when the closure was created.\n",
        "\n",
        "A closure, unlike a plain function, allows the function to access those captured variables through the closure's reference to them, even when the function is invoked outside their scope.\n",
        "\n"
      ],
      "metadata": {
        "id": "aADLLYyrCbDz"
      }
    },
    {
      "cell_type": "markdown",
      "source": [
        "### 2.1 Example 1: execution"
      ],
      "metadata": {
        "id": "8HV1fe4FJ50d"
      }
    },
    {
      "cell_type": "code",
      "source": [
        "def outer_func():\n",
        "  message = 'Hi'\n",
        "\n",
        "  def inner_func():\n",
        "    print(message)\n",
        "\n",
        "  return inner_func() # <-- return with execution\n",
        "\n",
        "my_func = outer_func()"
      ],
      "metadata": {
        "colab": {
          "base_uri": "https://localhost:8080/"
        },
        "id": "-FZymLV4CaGQ",
        "outputId": "ca54620c-b3e0-4203-f522-4d5a4494166a"
      },
      "execution_count": null,
      "outputs": [
        {
          "output_type": "stream",
          "name": "stdout",
          "text": [
            "Hi\n"
          ]
        }
      ]
    },
    {
      "cell_type": "code",
      "source": [
        "def outer_func():\n",
        "  message = 'Hi'\n",
        "\n",
        "  def inner_func():\n",
        "    print(message)\n",
        "\n",
        "  return inner_func # <-- return without execution\n",
        "\n",
        "my_func = outer_func()"
      ],
      "metadata": {
        "id": "Dw0ALT7HUv55"
      },
      "execution_count": null,
      "outputs": []
    },
    {
      "cell_type": "code",
      "source": [
        "print(my_func)\n",
        "print(my_func.__name__)"
      ],
      "metadata": {
        "colab": {
          "base_uri": "https://localhost:8080/"
        },
        "id": "zKUQe4aiFpOL",
        "outputId": "6a79307d-00a1-4166-9182-a42f6d50183e"
      },
      "execution_count": null,
      "outputs": [
        {
          "output_type": "stream",
          "name": "stdout",
          "text": [
            "<function outer_func.<locals>.inner_func at 0x7f8896edc680>\n",
            "inner_func\n"
          ]
        }
      ]
    },
    {
      "cell_type": "code",
      "source": [
        "my_func()\n",
        "my_func()"
      ],
      "metadata": {
        "colab": {
          "base_uri": "https://localhost:8080/"
        },
        "id": "aMC_gzU8FxWP",
        "outputId": "0c615b2a-bab6-4e5f-b6fa-17f026900124"
      },
      "execution_count": null,
      "outputs": [
        {
          "output_type": "stream",
          "name": "stdout",
          "text": [
            "Hi\n",
            "Hi\n"
          ]
        }
      ]
    },
    {
      "cell_type": "markdown",
      "source": [
        "We are done with the execution of the outer function, but **the inner function still has access to the message variable** that it's printing out.\n",
        "\n",
        "In simple terms, a closure is an inner function that remembers and has access to variables in the local scope in which it was created, even after the outer function has finished executing. \n",
        "\n",
        "### 2.2 Example 2: with arg"
      ],
      "metadata": {
        "id": "k4gjgqGQGG7J"
      }
    },
    {
      "cell_type": "code",
      "source": [
        "def outer_func(msg):\n",
        "  message = msg\n",
        "\n",
        "  def inner_func(): # <-- not taking any args, still\n",
        "    print(message)\n",
        "\n",
        "  return inner_func "
      ],
      "metadata": {
        "id": "3NERGCE7IBym"
      },
      "execution_count": null,
      "outputs": []
    },
    {
      "cell_type": "code",
      "source": [
        "hi_func = outer_func('Hi')\n",
        "hello_func = outer_func('Hello')\n",
        "\n",
        "hi_func()\n",
        "hello_func()"
      ],
      "metadata": {
        "colab": {
          "base_uri": "https://localhost:8080/"
        },
        "id": "_j1DgMH8GC71",
        "outputId": "a43e0c36-f3f6-4873-ec85-48f47395a0e4"
      },
      "execution_count": null,
      "outputs": [
        {
          "output_type": "stream",
          "name": "stdout",
          "text": [
            "Hi\n",
            "Hello\n"
          ]
        }
      ]
    },
    {
      "cell_type": "markdown",
      "source": [
        "Alternatively, a closures closes over the free variables from their enviroment.\n",
        "\n",
        "Here `message` is that free variable.\n",
        "\n",
        "### 2.3 Example 3: a practical application"
      ],
      "metadata": {
        "id": "I8F70rZOI5Nq"
      }
    },
    {
      "cell_type": "code",
      "source": [
        "import logging\n",
        "logging.basicConfig(filename='example.log', level=logging.INFO)\n",
        "\n",
        "def logger(func):\n",
        "  def log_func(*args): # <-- takes in any number of args\n",
        "    logging.info(\n",
        "        # Logging the function with the passed arguments\n",
        "        'Running \"{}\" with arguments {}'.format(func.__name__, args))\n",
        "    # Executing the function and print to the console\n",
        "    print(func(*args))\n",
        "  return log_func\n",
        "\n",
        "def add(x, y):\n",
        "  return x+y\n",
        "\n",
        "def sub(x, y):\n",
        "  return x-y"
      ],
      "metadata": {
        "id": "aWZURCLpIm7h"
      },
      "execution_count": null,
      "outputs": []
    },
    {
      "cell_type": "code",
      "source": [
        "add_logger = logger(add)\n",
        "sub_logger = logger(sub)\n",
        "\n",
        "add_logger(3, 3)\n",
        "sub_logger(4, 5)"
      ],
      "metadata": {
        "colab": {
          "base_uri": "https://localhost:8080/"
        },
        "id": "Qk_EKji5NM5V",
        "outputId": "a7d3e599-1337-4253-b9f8-204b8d609f1f"
      },
      "execution_count": null,
      "outputs": [
        {
          "output_type": "stream",
          "name": "stdout",
          "text": [
            "6\n",
            "-1\n"
          ]
        }
      ]
    },
    {
      "cell_type": "code",
      "source": [],
      "metadata": {
        "id": "KRXpYHPskGO7"
      },
      "execution_count": null,
      "outputs": []
    },
    {
      "cell_type": "markdown",
      "source": [
        "The printed result above would have been exactly the same have we had used the `add` and `sub` functions. \n",
        "\n",
        "What closure did though, it has logged the information of running a specific function with specific arguments in an `example.log` file which was created. \n",
        "\n",
        "### 2.3 Summary\n",
        "\n",
        "In this final example we can see how closure can provide powerful tools. For this particular example a decorator would have been a more appropriate use.\n"
      ],
      "metadata": {
        "id": "DE1vk8mIPVa-"
      }
    }
  ]
}