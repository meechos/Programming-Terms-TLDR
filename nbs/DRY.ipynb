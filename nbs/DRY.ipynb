{
  "nbformat": 4,
  "nbformat_minor": 0,
  "metadata": {
    "colab": {
      "provenance": [],
      "collapsed_sections": [],
      "toc_visible": true
    },
    "kernelspec": {
      "name": "python3",
      "display_name": "Python 3"
    },
    "language_info": {
      "name": "python"
    }
  },
  "cells": [
    {
      "cell_type": "markdown",
      "source": [
        "## 6. DRY (Don't Repeat Yourself)\n",
        "\n",
        "A principle of software development, aimed at reducing the repetition of information of all kinds.\n",
        "\n",
        "Code that repeats \n",
        "- is hard to maintain\n",
        "- is prone to bugs\n",
        "- is difficult to read"
      ],
      "metadata": {
        "id": "AfIFDVQIuLe5"
      }
    },
    {
      "cell_type": "markdown",
      "source": [
        "### 6.1 Example 1:"
      ],
      "metadata": {
        "id": "e8PMc_Bpujgz"
      }
    },
    {
      "cell_type": "code",
      "source": [
        "# Subject data = [weight_kg, height_m]\n",
        "subject1 = [80, 1.62]\n",
        "subject2 = [69, 1.53]\n",
        "subject3 = [80, 1.66]\n",
        "subject4 = [80, 1.79]\n",
        "subject5 = [72, 1.60]\n",
        "\n",
        "bmi_subject1 = int(subject1[0] / subject1[1]**2)\n",
        "print(\"bmi {} = {}\".format('subject1', bmi_subject1))\n",
        "\n",
        "bmi_subject2 = int(subject2[0] / subject2[1]**2)\n",
        "print(\"bmi {} = {}\".format('subject2', bmi_subject2))\n",
        "\n",
        "bmi_subject3 = int(subject3[0] / subject3[1]**2)\n",
        "print(\"bmi {} = {}\".format('subject3', bmi_subject3))\n",
        "\n",
        "bmi_subject4 = int(subject4[0] / subject4[1]**2)\n",
        "print(\"bmi {} = {}\".format('subject4', bmi_subject4))\n",
        "\n",
        "bmi_subject5 = int(subject5[0] / subject5[1]**2)\n",
        "print(\"bmi {} = {}\".format('subject5', bmi_subject5))"
      ],
      "metadata": {
        "id": "wLIW46CKr_0S"
      },
      "execution_count": null,
      "outputs": []
    },
    {
      "cell_type": "markdown",
      "source": [
        "While the above code produces the same output as the first version of our code, it still required lots of cutting and pasting and changing subject numbers. Also, the print statement is identical for each subject. We should be able to improve our code by including the print statement in our function."
      ],
      "metadata": {
        "id": "x3Yoe-DHCnzd"
      }
    },
    {
      "cell_type": "code",
      "source": [
        "def bmi_calc(sub_num, weight_kg, height_m):\n",
        "    \"\"\"Calculate BMI from weight in kg and height in meters\"\"\"\n",
        "    \n",
        "    bmi = int(weight_kg / height_m**2)\n",
        "    subject = 'subject' + str(sub_num)\n",
        "    print(\"bmi {} = {}\".format(subject, bmi))\n",
        "\n",
        "# Subject data = [weight_kg, height_m]\n",
        "subjects =[[1, 80, 1.62], # subject1\n",
        "           [2, 69, 1.53], # subject2\n",
        "           [3, 80, 1.66], # subject3\n",
        "           [4, 80, 1.79], # subject4\n",
        "           [5, 72, 1.60]] # subject5\n",
        "\n",
        "for sub in subjects:\n",
        "    bmi_calc(sub[0], sub[1], sub[2])  "
      ],
      "metadata": {
        "id": "j73Ie7zQC6iy"
      },
      "execution_count": null,
      "outputs": []
    },
    {
      "cell_type": "markdown",
      "source": [
        "### 6.2 Example 2: unit testing"
      ],
      "metadata": {
        "id": "lHNXQ5i0DhTt"
      }
    },
    {
      "cell_type": "code",
      "source": [
        "# calc.py\n",
        "\n",
        "def add(num1, num2):\n",
        "  return num1 + num2\n",
        "\n",
        "def sub(num1, num2):\n",
        "  return num1 - num2\n",
        "\n",
        "def multi(num1, num2):\n",
        "  return num1 * num2\n",
        "\n",
        "def divide(num1, num2):\n",
        "  return num1 / num2"
      ],
      "metadata": {
        "id": "nNYQsfOSDosA"
      },
      "execution_count": null,
      "outputs": []
    },
    {
      "cell_type": "code",
      "source": [
        "# test_calc.py\n",
        "\n",
        "import unittest\n",
        "import calc\n",
        "\n",
        "class CalcTestCase(unittest.Testcase):\n",
        "  \"\"\"Test calc.py\"\"\"\n",
        "  def setUp(self):\n",
        "    pass\n",
        "\n",
        "  def tearDown(self):\n",
        "    pass\n",
        "  \n",
        "  def test_add(self):\n",
        "    num1 = 10\n",
        "    num2 = 5\n",
        "    self.assertTrue(calc.add(num1, num2), num1 + num2)\n",
        "\n",
        "  def test_sub(self):\n",
        "    num1 = 10\n",
        "    num2 = 5\n",
        "    self.assertTrue(calc.sub(num1, num2), num1 - num2)\n",
        "\n",
        "  def test_multi(self):\n",
        "    num1 = 10\n",
        "    num2 = 5\n",
        "    self.assertTrue(calc.multi(num1, num2), num1 + num2)\n",
        "\n",
        "  def test_div(self):\n",
        "    num1 = 10\n",
        "    num2 = 5\n",
        "    self.assertTrue(calc.div(num1, num2), num1 + num2)"
      ],
      "metadata": {
        "id": "rS77X_O-EBQ4"
      },
      "execution_count": null,
      "outputs": []
    },
    {
      "cell_type": "markdown",
      "source": [
        "You can see how `num1` and `num2` are being repeatedly declared. A drier version of this could be by declaring these variables inside the `setUp()` method, which the test runner will run prior to each test."
      ],
      "metadata": {
        "id": "3E-4YSfpF4Mt"
      }
    },
    {
      "cell_type": "code",
      "source": [
        "# DRY test_calc.py\n",
        "\n",
        "import unittest\n",
        "import calc\n",
        "\n",
        "class CalcTestCase(unittest.Testcase):\n",
        "  \"\"\"Test calc.py\"\"\"\n",
        "  def setUp(self):\n",
        "    self.num1 = 10\n",
        "    self.num2 = 5\n",
        "    pass\n",
        "\n",
        "  def tearDown(self):\n",
        "    pass\n",
        "  \n",
        "  def test_add(self):\n",
        "    self.assertTrue(calc.add(num1, num2), num1 + num2)\n",
        "\n",
        "  def test_sub(self):\n",
        "    self.assertTrue(calc.sub(num1, num2), num1 - num2)\n",
        "\n",
        "  def test_multi(self):\n",
        "      self.assertTrue(calc.multi(num1, num2), num1 + num2)\n",
        "\n",
        "  def test_div(self):\n",
        "    self.assertTrue(calc.div(num1, num2), num1 + num2)"
      ],
      "metadata": {
        "id": "sZmAr7SYG5mg"
      },
      "execution_count": null,
      "outputs": []
    },
    {
      "cell_type": "markdown",
      "source": [
        "### 6.2 Summary\n",
        "\n",
        "We can see how the dry version of the code is much easier to read and should we want to make any changes, we only have to do it in one place as every functionality is placed at one central location."
      ],
      "metadata": {
        "id": "maletkBfDCxs"
      }
    }
  ]
}