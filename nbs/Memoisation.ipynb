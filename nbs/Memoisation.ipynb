{
  "nbformat": 4,
  "nbformat_minor": 0,
  "metadata": {
    "colab": {
      "provenance": [],
      "collapsed_sections": [],
      "toc_visible": true
    },
    "kernelspec": {
      "name": "python3",
      "display_name": "Python 3"
    },
    "language_info": {
      "name": "python"
    }
  },
  "cells": [
    {
      "cell_type": "markdown",
      "source": [
        "## 4. Memoisation\n",
        "\n",
        "Memoisation is an optimisation technique used primarily to speed up computer programs by storing the results of expensive function calls and returning the cached result when the same inputs occur again.\n",
        "\n"
      ],
      "metadata": {
        "id": "SBtWDjjBA84o"
      }
    },
    {
      "cell_type": "markdown",
      "source": [
        "### 4.1 Example: Cache memorisation"
      ],
      "metadata": {
        "id": "Yb5Z9lv2HBdJ"
      }
    },
    {
      "cell_type": "code",
      "source": [
        "import time\n",
        "\n",
        "def expensive_func(num):\n",
        "  print('Computing {}...'.format(num))\n",
        "  time.sleep(1)\n",
        "  return num*num\n",
        "\n",
        "start_time = time.time()\n",
        "\n",
        "result = expensive_func(4)\n",
        "print(result)\n",
        "\n",
        "result = expensive_func(10)\n",
        "print(result)\n",
        "\n",
        "# Repeat\n",
        "result = expensive_func(4)\n",
        "print(result)\n",
        "\n",
        "result = expensive_func(10)\n",
        "print(result)\n",
        "\n",
        "print('Elapsed time {:.2f} sec'.format(time.time() - start_time))\n"
      ],
      "metadata": {
        "colab": {
          "base_uri": "https://localhost:8080/"
        },
        "id": "Om5e4De79y-M",
        "outputId": "206cffde-3430-4189-a104-99c26d0081ac"
      },
      "execution_count": null,
      "outputs": [
        {
          "output_type": "stream",
          "name": "stdout",
          "text": [
            "Computing 4...\n",
            "16\n",
            "Computing 10...\n",
            "100\n",
            "Computing 4...\n",
            "16\n",
            "Computing 10...\n",
            "100\n",
            "Elapsed time 4.01 sec\n"
          ]
        }
      ]
    },
    {
      "cell_type": "markdown",
      "source": [
        "I would be nice to have remembered the results from the first time we run the functions.\n",
        "\n",
        "Remembering the answer is what memoisation is about, by returning the cached result of an expensive function when the same input is being passed."
      ],
      "metadata": {
        "id": "-iUS4hNoCqVg"
      }
    },
    {
      "cell_type": "code",
      "source": [
        "ef_cache = {}\n",
        "\n",
        "def expensive_func(num):\n",
        "  if num in ef_cache:\n",
        "    return ef_cache[num]\n",
        "\n",
        "  print('Computing {}...'.format(num))\n",
        "  time.sleep(1)\n",
        "  result = num*num\n",
        "  ef_cache[num] = result\n",
        "  return result\n",
        "\n",
        "start_time = time.time()\n",
        "result = expensive_func(4)\n",
        "print(result)\n",
        "\n",
        "result = expensive_func(10)\n",
        "print(result)\n",
        "\n",
        "# Repeat\n",
        "result = expensive_func(4)\n",
        "print(result)\n",
        "\n",
        "result = expensive_func(10)\n",
        "print(result)\n",
        "\n",
        "print('Elapsed time: {:.2f} sec'.format(time.time() - start_time))"
      ],
      "metadata": {
        "colab": {
          "base_uri": "https://localhost:8080/"
        },
        "id": "BcvJ6VHPCUBm",
        "outputId": "fa2bc50f-450a-43ce-c31e-8be399566700"
      },
      "execution_count": null,
      "outputs": [
        {
          "output_type": "stream",
          "name": "stdout",
          "text": [
            "Computing 4...\n",
            "16\n",
            "Computing 10...\n",
            "100\n",
            "16\n",
            "100\n",
            "Elapsed time: 2.00 sec\n"
          ]
        }
      ]
    },
    {
      "cell_type": "markdown",
      "source": [
        "In the examples above we see how a cache memory can help us reduce the runtime of the execution of expensive functions.\n",
        "\n",
        "### 4.2 Example 2: python decorators for caching"
      ],
      "metadata": {
        "id": "kbRGMGlRG-mY"
      }
    },
    {
      "cell_type": "code",
      "source": [
        "from functools import lru_cache\n",
        "\n",
        "@lru_cache(maxsize=128)\n",
        "def expensive_func(num):\n",
        "\n",
        "  print('Computing {}...'.format(num))\n",
        "  time.sleep(1)\n",
        "  result = num*num\n",
        "  return result\n",
        "\n",
        "start_time = time.time()\n",
        "result = expensive_func(4)\n",
        "print(result)\n",
        "\n",
        "result = expensive_func(10)\n",
        "print(result)\n",
        "\n",
        "# Repeat\n",
        "result = expensive_func(4)\n",
        "print(result)\n",
        "\n",
        "result = expensive_func(10)\n",
        "print(result)\n",
        "\n",
        "print('Elapsed time: {:.2f} sec'.format(time.time() - start_time))"
      ],
      "metadata": {
        "colab": {
          "base_uri": "https://localhost:8080/"
        },
        "id": "DWiTp18O-bNY",
        "outputId": "605e662b-cc4f-41a1-eac3-ac96c96d9731"
      },
      "execution_count": null,
      "outputs": [
        {
          "output_type": "stream",
          "name": "stdout",
          "text": [
            "Computing 4...\n",
            "16\n",
            "Computing 10...\n",
            "100\n",
            "16\n",
            "100\n",
            "Elapsed time: 2.01 sec\n"
          ]
        }
      ]
    },
    {
      "cell_type": "markdown",
      "source": [
        "Again, we can see here some python buit in functionality for caching memory properties of the expensive function."
      ],
      "metadata": {
        "id": "WJfqGo8u_4xn"
      }
    },
    {
      "cell_type": "markdown",
      "source": [
        "### 4.3 Summary\n",
        "\n",
        "The concept of memoisation can help bring drastic cuts to computation time, especially for complicated programs. There are more advanced techniques of implementing memoisation or ways of deplying it by using decorators like like automatic setup with python decorators like `@functools.cache(user_function)` or `lru_cache()` or `cache` or `cached_property`.\n",
        "\n",
        "https://docs.python.org/3/library/functools.html\n"
      ],
      "metadata": {
        "id": "45Chrl7DHZHu"
      }
    },
    {
      "cell_type": "code",
      "source": [],
      "metadata": {
        "id": "iOaFt6d_Jt98"
      },
      "execution_count": null,
      "outputs": []
    }
  ]
}